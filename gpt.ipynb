{
 "cells": [
  {
   "cell_type": "code",
   "execution_count": 7,
   "metadata": {},
   "outputs": [
    {
     "name": "stdout",
     "output_type": "stream",
     "text": [
      "1154391\n"
     ]
    },
    {
     "data": {
      "text/plain": [
       "<torch._C.Generator at 0x111b86c30>"
      ]
     },
     "execution_count": 7,
     "metadata": {},
     "output_type": "execute_result"
    }
   ],
   "source": [
    "#from jaxtyping import Array, Float, PyTree\n",
    "import torch\n",
    "import torch.nn\n",
    "import torch.random\n",
    "from typing import List, Tuple\n",
    "\n",
    "with open('crime_and_punishment.txt') as f:\n",
    "    text = f.read()\n",
    "print(len(text))\n",
    "\n",
    "vocab = sorted(set(text))\n",
    "\n",
    "def c2i(c: str) -> int:\n",
    "    return vocab.index(c)\n",
    "\n",
    "def i2c(i: int) -> str:\n",
    "    return vocab[i]\n",
    "\n",
    "text_ids = [c2i(c) for c in text]\n",
    "\n",
    "torch.random.manual_seed(1337)"
   ]
  },
  {
   "cell_type": "code",
   "execution_count": 20,
   "metadata": {},
   "outputs": [],
   "source": [
    "k = int(0.9*len(text_ids))\n",
    "train = text_ids[:k]\n",
    "test = text_ids[k:]"
   ]
  },
  {
   "cell_type": "code",
   "execution_count": 21,
   "metadata": {},
   "outputs": [],
   "source": [
    "# Let's construct our training examples.\n",
    "# We want to take our text, some block size, and generate a random sample.\n",
    "# How did Karpathy's approach ensure the whole data was used in a given epoch?\n",
    "# I seem to recall him randomly choosing an offset. Well let's just go with that for now\n",
    "# and update it later when we want to do training\n",
    "def create_batch(batch_size: int, block_size: int, split) -> Tuple[torch.Tensor, torch.Tensor]:\n",
    "    if split == 'train':\n",
    "        text_ids = train\n",
    "    elif split == 'test':\n",
    "        text_ids = test\n",
    "    else:\n",
    "        raise ValueError()\n",
    "    rand_starts = torch.randint(len(text_ids) - block_size, (batch_size,))\n",
    "    x = torch.tensor([text_ids[rand_start:rand_start+block_size] for rand_start in rand_starts.tolist()])\n",
    "    y = torch.tensor([text_ids[rand_start+1:rand_start+block_size+1] for rand_start in rand_starts.tolist()])\n",
    "    return x, y\n",
    "\n",
    "x, y = create_batch(4, 8, 'test')"
   ]
  },
  {
   "cell_type": "code",
   "execution_count": 24,
   "metadata": {},
   "outputs": [],
   "source": [
    "def estimate_loss(model, eval_iters, batch_size, block_size):\n",
    "    model.eval()\n",
    "    result = {}\n",
    "    for split in ['train', 'test']:\n",
    "        losses = torch.zeros(eval_iters)\n",
    "        for iter in range(eval_iters):\n",
    "            x, y = create_batch(batch_size, block_size, split)\n",
    "            losses[iter] = model.loss(x, y).item()\n",
    "        result[split] = losses.mean()\n",
    "    return result"
   ]
  },
  {
   "cell_type": "code",
   "execution_count": 27,
   "metadata": {},
   "outputs": [
    {
     "data": {
      "text/plain": [
       "{'train': tensor(4.8465), 'test': tensor(4.8414)}"
      ]
     },
     "execution_count": 27,
     "metadata": {},
     "output_type": "execute_result"
    }
   ],
   "source": [
    "class GPT(torch.nn.Module):\n",
    "    def __init__(self, vocab: List[str], hdim: int):\n",
    "        super().__init__()\n",
    "        self.vocab = vocab\n",
    "        self.embedding = torch.nn.Embedding(len(vocab), hdim)\n",
    "        self.final_proj = torch.nn.Linear(hdim, len(vocab))\n",
    "        self.loss_fn = torch.nn.CrossEntropyLoss()\n",
    "        # Now we need to make a loss.\n",
    "\n",
    "    def forward(self, x: torch.Tensor) -> torch.Tensor:\n",
    "        x = self.embedding(x)\n",
    "        logits = self.final_proj(x)\n",
    "        return logits\n",
    "\n",
    "    def loss(self, x: torch.Tensor, y: torch.Tensor) -> torch.Tensor:\n",
    "        logits = self(x)\n",
    "        B, T, C = logits.shape\n",
    "        logits = logits.view(B*T, C)\n",
    "        y = y.view(B*T)\n",
    "        loss = self.loss_fn(logits, y)\n",
    "        return loss\n",
    "\n",
    "gpt = GPT(vocab, 32)\n",
    "gpt(x)\n",
    "gpt.loss(x, y)\n",
    "estimate_loss(gpt, 500, 4, 8)"
   ]
  },
  {
   "cell_type": "code",
   "execution_count": null,
   "metadata": {},
   "outputs": [],
   "source": []
  }
 ],
 "metadata": {
  "kernelspec": {
   "display_name": "gpt",
   "language": "python",
   "name": "python3"
  },
  "language_info": {
   "codemirror_mode": {
    "name": "ipython",
    "version": 3
   },
   "file_extension": ".py",
   "mimetype": "text/x-python",
   "name": "python",
   "nbconvert_exporter": "python",
   "pygments_lexer": "ipython3",
   "version": "3.11.3"
  }
 },
 "nbformat": 4,
 "nbformat_minor": 2
}
