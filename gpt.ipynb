{
 "cells": [
  {
   "cell_type": "code",
   "execution_count": 48,
   "metadata": {},
   "outputs": [
    {
     "name": "stdout",
     "output_type": "stream",
     "text": [
      "1154391\n"
     ]
    },
    {
     "data": {
      "text/plain": [
       "<torch._C.Generator at 0x113c661f0>"
      ]
     },
     "execution_count": 48,
     "metadata": {},
     "output_type": "execute_result"
    }
   ],
   "source": [
    "from jaxtyping import Float, Integer\n",
    "import torch\n",
    "import torch.nn\n",
    "import torch.random\n",
    "from typing import Dict, List, Tuple, Union, Optional\n",
    "\n",
    "with open('crime_and_punishment.txt') as f:\n",
    "    text = f.read()\n",
    "print(len(text))\n",
    "\n",
    "vocab = sorted(set(text))\n",
    "\n",
    "def c2i(c: str) -> int:\n",
    "    return vocab.index(c)\n",
    "\n",
    "def i2c(i: int) -> str:\n",
    "    return vocab[i]\n",
    "\n",
    "text_ids = [c2i(c) for c in text]\n",
    "\n",
    "torch.random.manual_seed(1337)"
   ]
  },
  {
   "cell_type": "code",
   "execution_count": 28,
   "metadata": {},
   "outputs": [],
   "source": [
    "k = int(0.9*len(text_ids))\n",
    "train = text_ids[:k]\n",
    "test = text_ids[k:]"
   ]
  },
  {
   "cell_type": "code",
   "execution_count": 29,
   "metadata": {},
   "outputs": [],
   "source": [
    "# Let's construct our training examples.\n",
    "# We want to take our text, some block size, and generate a random sample.\n",
    "# How did Karpathy's approach ensure the whole data was used in a given epoch?\n",
    "# I seem to recall him randomly choosing an offset. Well let's just go with that for now\n",
    "# and update it later when we want to do training\n",
    "def create_batch(batch_size: int, block_size: int, split: str) -> Tuple[Float[torch.Tensor, 'B T C'], Float[torch.Tensor, 'B T C']]:\n",
    "    if split == 'train':\n",
    "        text_ids = train\n",
    "    elif split == 'test':\n",
    "        text_ids = test\n",
    "    else:\n",
    "        raise ValueError()\n",
    "    rand_starts: Float[torch.Tensor, '...'] = torch.randint(len(text_ids) - block_size, (batch_size,))\n",
    "    x = torch.tensor([text_ids[rand_start:rand_start+block_size] for rand_start in rand_starts.tolist()])\n",
    "    y = torch.tensor([text_ids[rand_start+1:rand_start+block_size+1] for rand_start in rand_starts.tolist()])\n",
    "    return x, y\n",
    "\n",
    "x, y = create_batch(4, 8, 'test')"
   ]
  },
  {
   "cell_type": "code",
   "execution_count": 30,
   "metadata": {},
   "outputs": [],
   "source": [
    "def estimate_loss(model: torch.nn.Module, eval_iters: int, batch_size: int, block_size: int) -> Dict[str, Float[torch.Tensor, '...']]:\n",
    "    model.eval()\n",
    "    result: Dict[str, Float[torch.Tensor, '...']] = {}\n",
    "    for split in ['train', 'test']:\n",
    "        losses = torch.zeros(eval_iters)\n",
    "        for iter in range(eval_iters):\n",
    "            x, y = create_batch(batch_size, block_size, split)\n",
    "            _, loss = model(x, y)\n",
    "            losses[iter] = loss.item()\n",
    "        result[split] = losses.mean()\n",
    "    return result"
   ]
  },
  {
   "cell_type": "code",
   "execution_count": null,
   "metadata": {},
   "outputs": [],
   "source": []
  },
  {
   "cell_type": "code",
   "execution_count": 76,
   "metadata": {},
   "outputs": [
    {
     "name": "stdout",
     "output_type": "stream",
     "text": [
      "tensor([[0]])\n",
      "torch.Size([1, 1])\n"
     ]
    }
   ],
   "source": [
    "class GPT(torch.nn.Module):\n",
    "    def __init__(self, vocab: List[str], hdim: int):\n",
    "        super().__init__()\n",
    "        self.vocab = vocab\n",
    "        self.embedding = torch.nn.Embedding(len(vocab), hdim)\n",
    "        self.final_proj = torch.nn.Linear(hdim, len(vocab))\n",
    "        self.loss_fn = torch.nn.CrossEntropyLoss()\n",
    "        # Now we need to make a loss.\n",
    "\n",
    "    def forward(self, x: Integer[torch.Tensor, 'B T'], y: Optional[Integer[torch.Tensor, 'B T']] = None) -> Tuple[Float[torch.Tensor, 'B T C'], Optional[Float[torch.Tensor, '...']]]:\n",
    "        x = self.embedding(x)\n",
    "        logits = self.final_proj(x)\n",
    "\n",
    "        if y is None:\n",
    "            return logits, None\n",
    "        else:\n",
    "            B, T, C = logits.shape\n",
    "            logits = logits.view(B*T, C)\n",
    "            y = y.view(B*T)\n",
    "            loss = self.loss_fn(logits, y)\n",
    "            return logits, loss\n",
    "\n",
    "    def generate(self, context: Integer[torch.Tensor, 'B T'], max_output_length: int) -> Integer[torch.Tensor, \"B T\"]:\n",
    "        for _ in range(max_output_length):\n",
    "            # Convert context into input IDs. This requires knowing context size.\n",
    "            logits, _ = self(context)\n",
    "            logits = logits[:, -1, :]\n",
    "            # Now find the word closest to this logit. Question: How is that done? Answer: it actually is sampling just from a multinomial over the probs.  \n",
    "            probs = torch.nn.functional.softmax(logits, dim=-1)\n",
    "            idx = torch.multinomial(probs, 1)\n",
    "            # Then feed those words as context in. Once you get to length `context_size` start doing a sliding window.\n",
    "            context = torch.cat((context, idx), dim=1)\n",
    "        return context\n",
    "\n",
    "\n",
    "gpt = GPT(vocab, 32)\n",
    "gpt(x, None)\n",
    "context = torch.tensor(c2i('\\n')).view(1, 1)\n",
    "print(context)\n",
    "print(context.shape)\n",
    "''.join(i2c(x) for x in gpt.generate(context, 100)[0].tolist())\n",
    "estimate_loss(gpt, 500, 4, 8)\n",
    "optim = torch.optim.AdamW(gpt.parameters(), lr=1e-3)"
   ]
  },
  {
   "cell_type": "code",
   "execution_count": 77,
   "metadata": {},
   "outputs": [
    {
     "data": {
      "text/plain": [
       "{'train': tensor(2.4882), 'test': tensor(2.5584)}"
      ]
     },
     "execution_count": 77,
     "metadata": {},
     "output_type": "execute_result"
    }
   ],
   "source": [
    "for step in range(10000):\n",
    "    gpt.zero_grad()\n",
    "    batch = create_batch(4, 8, 'train')\n",
    "    logits, loss = gpt(*batch)\n",
    "    loss.backward()\n",
    "    optim.step()\n",
    "estimate_loss(gpt, 500, 4, 8)"
   ]
  },
  {
   "cell_type": "code",
   "execution_count": 78,
   "metadata": {},
   "outputs": [
    {
     "data": {
      "text/plain": [
       "'\\nHal,\\ntexod, s sur lloughag pe, Acuromeckie o, iere harionkee gethay orrosng way, itin lkigazs, fece '"
      ]
     },
     "execution_count": 78,
     "metadata": {},
     "output_type": "execute_result"
    }
   ],
   "source": [
    "''.join(i2c(x) for x in gpt.generate(context, 100)[0].tolist())"
   ]
  },
  {
   "cell_type": "code",
   "execution_count": null,
   "metadata": {},
   "outputs": [],
   "source": []
  }
 ],
 "metadata": {
  "kernelspec": {
   "display_name": "gpt",
   "language": "python",
   "name": "python3"
  },
  "language_info": {
   "codemirror_mode": {
    "name": "ipython",
    "version": 3
   },
   "file_extension": ".py",
   "mimetype": "text/x-python",
   "name": "python",
   "nbconvert_exporter": "python",
   "pygments_lexer": "ipython3",
   "version": "3.11.3"
  }
 },
 "nbformat": 4,
 "nbformat_minor": 2
}
